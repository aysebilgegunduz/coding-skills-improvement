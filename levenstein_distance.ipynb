{
  "nbformat": 4,
  "nbformat_minor": 0,
  "metadata": {
    "colab": {
      "provenance": [],
      "authorship_tag": "ABX9TyPQF5Lp92ZBCbqY14LtC2JK",
      "include_colab_link": true
    },
    "kernelspec": {
      "name": "python3",
      "display_name": "Python 3"
    },
    "language_info": {
      "name": "python"
    }
  },
  "cells": [
    {
      "cell_type": "markdown",
      "metadata": {
        "id": "view-in-github",
        "colab_type": "text"
      },
      "source": [
        "<a href=\"https://colab.research.google.com/github/aysebilgegunduz/coding-skills-improvement/blob/main/levenstein_distance.ipynb\" target=\"_parent\"><img src=\"https://colab.research.google.com/assets/colab-badge.svg\" alt=\"Open In Colab\"/></a>"
      ]
    },
    {
      "cell_type": "code",
      "source": [
        "import unittest "
      ],
      "metadata": {
        "id": "6E7-kEbjM5nk"
      },
      "execution_count": 15,
      "outputs": []
    },
    {
      "cell_type": "code",
      "execution_count": 11,
      "metadata": {
        "id": "GWd4JwhUCETi"
      },
      "outputs": [],
      "source": [
        "def getEditDistance(word1:str, word2:str)->int:\n",
        "  cost = 0\n",
        "  if len(word1) < len(word2):\n",
        "    return getEditDistance(word2, word1)\n",
        "\n",
        "  if len(word2)==0:\n",
        "    return len(word1)\n",
        "\n",
        "  prev_row = range(len(word2)+1)\n",
        "\n",
        "  for i, c1 in enumerate(word1):\n",
        "    curr_row = [i+1]\n",
        "    for j, c2 in enumerate(word2):\n",
        "      insertion = prev_row[j+1] + 1\n",
        "      deletion = curr_row[j] + 1\n",
        "      substition = prev_row[j] + (c1!=c2)\n",
        "      curr_row.append(min(insertion, deletion, substition))\n",
        "    prev_row = curr_row\n",
        "  return prev_row[-1]\n"
      ]
    },
    {
      "cell_type": "code",
      "source": [
        "class Test(unittest.TestCase):\n",
        "  def test1(self):\n",
        "    assert getEditDistance(\"busa\", \"ebcar\")==4\n",
        "    print(\"PASSED: `get_edit_distance('busa', 'ebcar')` should return `4`\")\n",
        "\n",
        "  def test2(self):\n",
        "    assert getEditDistance(\"milk\", \"silk\")==1\n",
        "    print(\"PASSED: `get_edit_distance('milk', 'silk')` should return `1`\")\n",
        "\n",
        "  def test3(self):\n",
        "    assert getEditDistance(\"cegaga\", \"ki\") == 6\n",
        "    print(\"PASSED: `get_edit_distance()`should return `6`\")"
      ],
      "metadata": {
        "id": "P_tmJYfWDSae"
      },
      "execution_count": 17,
      "outputs": []
    },
    {
      "cell_type": "code",
      "source": [
        "if __name__ == '__main__':\n",
        "    unittest.main(argv=['first-arg-is-ignored'], exit=False)"
      ],
      "metadata": {
        "colab": {
          "base_uri": "https://localhost:8080/"
        },
        "id": "aCCy7g4PMGj_",
        "outputId": "bc9221f2-cc0c-47b4-e113-302589c2bcb5"
      },
      "execution_count": 19,
      "outputs": [
        {
          "output_type": "stream",
          "name": "stderr",
          "text": [
            "..."
          ]
        },
        {
          "output_type": "stream",
          "name": "stdout",
          "text": [
            "PASSED: `get_edit_distance('busa', 'ebcar')` should return `4`\n",
            "PASSED: `get_edit_distance('milk', 'silk')` should return `1`\n",
            "PASSED: `get_edit_distance()`should return `6`\n"
          ]
        },
        {
          "output_type": "stream",
          "name": "stderr",
          "text": [
            "\n",
            "----------------------------------------------------------------------\n",
            "Ran 3 tests in 0.010s\n",
            "\n",
            "OK\n"
          ]
        }
      ]
    },
    {
      "cell_type": "code",
      "source": [],
      "metadata": {
        "id": "oY6f6N0pOHvn"
      },
      "execution_count": null,
      "outputs": []
    }
  ]
}